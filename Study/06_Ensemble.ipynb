{
 "cells": [
  {
   "cell_type": "markdown",
   "metadata": {},
   "source": [
    "## 06. 앙상블 학습이란?\n",
    "\n",
    "### 앙상블 학습\n",
    "\n",
    "* 목표 : 여러 분류기를 하나의 메타 분류기로 연결하여 개별 분류기보다 더 좋은 일반화 성능을 달성\n",
    "\n",
    "\n",
    "#### 주요 방법\n",
    "\n",
    "#### 종류"
   ]
  }
 ],
 "metadata": {
  "language_info": {
   "name": "python"
  },
  "orig_nbformat": 4
 },
 "nbformat": 4,
 "nbformat_minor": 2
}
