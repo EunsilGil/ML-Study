{
 "cells": [
  {
   "cell_type": "markdown",
   "metadata": {},
   "source": [
    "## 03. 기계학습(머신러닝) 기초 2"
   ]
  },
  {
   "cell_type": "markdown",
   "metadata": {},
   "source": [
    "### 1) 기본 Package 설정\n",
    "\n",
    "앞으로 공부하면서 사용할 Package들을 절차에 맞춰 미리 소개하겠다.  \n",
    "필요에 따라 각각의 속도에 맞춰 pacakge를 새롭게 설치해도 되지만,   \n",
    "그냥 공부가 목적이라면 하나의 file로 만들어 가장 앞쪽에 미리 적어 놓는 것이 더욱 효율 적일 것이다.  \n",
    "\n",
    "참고로 나는 이미 사용할 모델과 data가 있어서 모든 package가 필요하지는 않기에 나에게 필요하지 않은 package들과 추 후에 사용할 모델에 대해서 주석처리해두었다."
   ]
  },
  {
   "cell_type": "code",
   "execution_count": null,
   "metadata": {},
   "outputs": [],
   "source": [
    "# 기본\n",
    "import numpy as np\n",
    "import pandas as pd\n",
    "import matplotlib.pyplot as plt # 그래프\n",
    "\n",
    "# # 데이터 가져오기\n",
    "# from sklearn import datasets    # sklearn에 있는 data import\n",
    "\n",
    "# # 데이터 전처리\n",
    "# from sklearn.preprocessing import StandardScaler    # 연속 변수 표준화\n",
    "# from sklearn.preprocessing import LabelEncoder      # 범주형 변수 수치화\n",
    "\n",
    "# 훈련/검증용 데이터 분리\n",
    "from sklearn.model_selection import train_test_split    # 훈련과 테스트를 위한 데이터 분리\n",
    "\n",
    "# # 분류 모델\n",
    "# from sklearn.naive_bayes import GaussianNB      # 나이브 베이즈 분류\n",
    "# from sklearn.tree import DecisionTreeClassifier     # 의사결정나무\n",
    "# from sklearn.ensemble import RandomForestClassifier     # 랜덤 포레스트\n",
    "# from sklearn.ensemble import BaggingClassifier  # 앙상블\n",
    "# from sklearn.linear_model import LogisticRegression     # 로지스틱 회귀분석\n",
    "# from sklearn.svm import SVC      # SVM(서포트벡터머신)\n",
    "# from sklearn.neural_network import MLPClassifier    # 다층 인공신경망\n",
    "\n",
    "# 모델 검정\n",
    "from sklearn.metrics import confusion_matrix, classification_report # 정오분류표\n",
    "from sklearn.metrics import accuracy_score, precision_score, recall_score, f1_score, make_scorer  # 정확도, 민감도 등\n",
    "from sklearn.metrics import roc_curve   # ROC 곡선\n",
    "\n",
    "# # 최적화\n",
    "# from sklearn.model_selection import cross_validate  # 교차 타당도\n",
    "# from sklearn.pipeline import make_pipeline  # 파이프라인 구축\n",
    "# from sklearn.model_selection import learning_curve, validation_curve # 학습곡선, 검증곡선\n",
    "# from sklearn.model_selection import GridSearchCV    # 하이퍼파라미터 튜닝"
   ]
  },
  {
   "cell_type": "markdown",
   "metadata": {},
   "source": [
    "### 2) 데이터 가져오기\n",
    "\n",
    "데이터를 불러오는 방법에는 2가지가 있다.  \n",
    "1. Python에 있는 data를 불러오는 방법\n",
    "2. 자신의 기존 data를 불러오는 방법"
   ]
  },
  {
   "cell_type": "markdown",
   "metadata": {},
   "source": [
    "먼저, 사이킷런의 기본 dataset을 불러오는 방법은 다음과 같다."
   ]
  },
  {
   "cell_type": "code",
   "execution_count": null,
   "metadata": {},
   "outputs": [],
   "source": [
    "from sklearn import datasets    # sklearn에 있는 data import"
   ]
  },
  {
   "cell_type": "code",
   "execution_count": null,
   "metadata": {},
   "outputs": [],
   "source": [
    "iris = datasets.load_iris()\n",
    "iris.keys()"
   ]
  },
  {
   "cell_type": "code",
   "execution_count": null,
   "metadata": {},
   "outputs": [],
   "source": [
    "# Data와 Target으로 구분\n",
    "# Python은 예측변수와 결과변수로 구분해서 분석\n",
    "X = iris.data[:, [2,3]]\n",
    "y = iris.target"
   ]
  },
  {
   "cell_type": "markdown",
   "metadata": {},
   "source": [
    "자신이 가지고 있던 기존의 원본데이터(csv)파일을 dataframe 형태로 가져올 때는,  \n",
    "이전 part에서 배웠던 pandas를 사용해 불러올 수 있다.  "
   ]
  },
  {
   "cell_type": "code",
   "execution_count": null,
   "metadata": {},
   "outputs": [],
   "source": [
    "employee_data = pd.read_csv('../Data/train.csv')\n",
    "employee_data.head()"
   ]
  },
  {
   "cell_type": "markdown",
   "metadata": {},
   "source": [
    "원본 데이터를 pandas의 dataframe으로 가져온 후,  \n",
    "필요한 데이터만 추출해, Data와 target으로 구분하면 된다.  "
   ]
  },
  {
   "cell_type": "markdown",
   "metadata": {},
   "source": [
    "### 3) 데이터 전처리\n",
    "\n",
    "만약, 분석하고자 하는 data가 모두 숫자형 literal이라면 상관없겠지만,   \n",
    "대부분 분석하고자 하는 data에는 문자형 literal도 섞여 있을 가능성이 많다.    \n",
    "\n",
    "범주형 자료를 숫자로 변환하기 위해서는 우선 해당 변수가 **순서형 변수**인지, 아닌지 확인해야 한다.    \n",
    "순서형 변수는 초등학교 > 중학교 > 고등학교와 같이 각각의 변수들 사이에 정확한 개연성이 있는 것들을 의미하며, 이 경우 그냥 순서에 따라 값을 메겨주면 된다.  \n",
    "순서형 변수가 아니라면 `OneHotEncoder`를 활용해 전처리하는 것이 일반적이다.    \n",
    "\n",
    "#### 데이터 정규화(표준화)\n",
    "\n",
    "분류 방법에 따라 표준화를 시키는 모델과 시키지 않는 모델로 나뉜다.    \n",
    "* 원본 데이터를 그대로 유지하는 방법 : 의사결정나무, 랜덤 포레스트, 나이브 베이즈 분류   \n",
    "* 표준화 후 분석하는 방법 : 로지스틱 회귀 분석, 회귀 분석, 인공신경망   \n",
    "뿐만 아니라 군집 분석도 정규화가 필요하다.   \n",
    "군집 분석 시 표준화를 하지 않으면 단위에 따라 영향을 받을 수 있으므로 주의해야 한다.   \n",
    "\n",
    "\n",
    "#### 불균형한 클래스\n",
    "\n",
    "희소 사건에 대한 오버 샘플링의 경우 이를 처리할 수 있어야 한다.   \n",
    "* 언더샘플링 : 작은 쪽 데이터에 맞춤    \n",
    "* 오버샘플링 : 큰 쪽 데이터에 맞춤   \n",
    "* SMOTE(Synthetic Minority Oversampling Technigue)   \n",
    "    * 가장 대중적으로 사용하는 방법으로, 작은 쪽 샘플과 유사한 샘플을 찾아서 추가하는 것이다.  \n"
   ]
  },
  {
   "cell_type": "markdown",
   "metadata": {},
   "source": [
    "### 4) 훈련/검증용 데이터 분할\n",
    "\n",
    "실제 데이터를 다룰 때에는 범주형 변수와 연속 변수가 혼합되어 있는 경우가 대부분이다.  \n",
    "이러한 경우에는 훈련/테스트 셋을 나눈 후에 전처리를 하기 보다는, 전처리 작업 후에 훈련/검증용 셋을 구분하는 것이 좋다.\n",
    "\n",
    "#### Training, Test set 분류\n",
    "\n",
    "Python에서 훈련 및 검증용 세트로 데이터를 구분하는 방법은 다음과 같다."
   ]
  },
  {
   "cell_type": "code",
   "execution_count": null,
   "metadata": {},
   "outputs": [],
   "source": [
    "from sklearn.model_selection import train_test_split\n",
    "\n",
    "X_train, X_test, y_train, y_test = \\\n",
    "    train_test_split(X, y,\n",
    "                     test_size = 0.3,   # test set의 비율\n",
    "                     random_state = 1,  # 무작위 시드 번호\n",
    "                     stratify = y)      # 결과 레이블의 비율대로 분리"
   ]
  },
  {
   "cell_type": "markdown",
   "metadata": {},
   "source": [
    "### 5) 모델 구축\n",
    "\n",
    "먼저는 모델을 훈련시킨다.  \n",
    "어떠한 모델로 훈련시키느냐에 따라 분석 방법이 달라지는 것이며, 이 과정 자체가 바뀌는 것은 아니다."
   ]
  },
  {
   "cell_type": "markdown",
   "metadata": {},
   "source": [
    "### 6) 모델 검정  "
   ]
  },
  {
   "cell_type": "code",
   "execution_count": null,
   "metadata": {},
   "outputs": [],
   "source": [
    "# 훈련된 모델을 이용해 test date 검정 (예시)\n",
    "y_pred = svm.predict(X_test)\n",
    "\n",
    "# 정오분류표 (confuxion matrix)\n",
    "# python의 정오분류표에서는 column에 예측값이 들어간다.\n",
    "import pandas as pd\n",
    "confmat = pd.DataFrame(confusion_matrix(y_test, y_pred),\n",
    "                       index=['True[0]', 'True[1]', 'True[2]'],\n",
    "                       columns = ['Predict[0]', 'Predict[1]', 'Predict[2]'])\n",
    "confmat\n",
    "\n",
    "# 정확도, 정밀도, 재현율 등\n",
    "print(f'잘못 분류된 sample 갯수 : {(y_test != y_pred).sum()}')\n",
    "print(f'정확도 : {accuracy_score(y_test, y_pred):.2f}%')\n",
    "print(f'정밀도 : {precision_score(y_true=y_test, y_pred=y_pred):.3f}%')\n",
    "print(f'재현율 : {recall_score(y_true=y_test, y_pred=y_pred):.3f}%')\n",
    "print(f'F1 : {f1_score(y_true=y_test, y_pred=y_pred):.3f}%')"
   ]
  },
  {
   "cell_type": "markdown",
   "metadata": {},
   "source": [
    "model 검정에서 가장 많이 쓰이는 방식은 **ROC**를 이용하는 것이다.   \n",
    "보통, `1 - 특이도` 로 계산하기 때문에 민감도(TPR)이 높고 `1 - 특이도`(FPR)은 낮을 수록 좋은 모델이라고 볼 수 있다.\n",
    "\n",
    "![ROC Grahp](https://blog.kakaocdn.net/dn/mo0Bj/btq1TMN5sk2/vhZqoLcaPWKyaRNeg1AA71/img.png)\n",
    "\n",
    "또한 **Pipeline**을 이용하는 방법도 자주 사용한다.   \n",
    "여러 개의 변환 단계를 거쳐야 할 경우, pipeline을 사용해 연속해서 필요한 기능들을 자동적으로 수행하도록 만드는 방법이다.  "
   ]
  },
  {
   "cell_type": "markdown",
   "metadata": {},
   "source": [
    "### 7) 최적화   \n",
    "\n",
    "#### 교차 검정 (Cross Validation)\n",
    "모델의 성능을 검증하기 위한 방법으로, 홀드아웃 교차검정과, K-fold 교차검정이 있다.  \n",
    "\n",
    "홀드아웃 교차검정의 경우, 기존의 방식과 같이 training set와 test set을 처음부터 분류해놓고 검정하는 방법이다.  \n",
    "![Hold-out Cross Validation](https://thebook.io/img/080223/248.jpg)\n",
    "  \n",
    "K-fold 교차검정은 각각의 set을 K개로 분할하여 test set으로 사용하는 방법이다.  \n",
    "![K-fold Cross Validation](https://thebook.io/img/080223/249.jpg)"
   ]
  },
  {
   "cell_type": "markdown",
   "metadata": {},
   "source": [
    "Python은 정확도에 따라 편향과 분산을 비교한다.  \n",
    "training set과 test set이 모두 정확도를 기준으로 최적화를 진행하게 된다.  \n",
    "검증 곡선의 값의 변화를 확인해 계속해서 하이퍼 파라미터를 튜닝하게 되는 것이다.  \n",
    "\n",
    "이에 관련된 내용은 중요하기도 하고, 다뤄야 할 내용이 많기때문에 추후에 다시 설명하도록 하겠다.  "
   ]
  }
 ],
 "metadata": {
  "interpreter": {
   "hash": "08eac26dc1f80337b7d87e94e7159a5bad95c2e85f47efef91c61359b3afbfe9"
  },
  "kernelspec": {
   "display_name": "Python 3.9.9 ('ml')",
   "language": "python",
   "name": "python3"
  },
  "language_info": {
   "codemirror_mode": {
    "name": "ipython",
    "version": 3
   },
   "file_extension": ".py",
   "mimetype": "text/x-python",
   "name": "python",
   "nbconvert_exporter": "python",
   "pygments_lexer": "ipython3",
   "version": "3.9.9"
  },
  "orig_nbformat": 4
 },
 "nbformat": 4,
 "nbformat_minor": 2
}
