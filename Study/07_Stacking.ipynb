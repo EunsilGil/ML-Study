{
 "cells": [
  {
   "cell_type": "markdown",
   "metadata": {},
   "source": [
    "## Stacking Model\n",
    "\n",
    "**Goal**\n",
    "del `employee_id`\n",
    "* Accuracy : 0.94\n",
    "\n",
    "Alogorithm의 고도화\n"
   ]
  }
 ],
 "metadata": {
  "language_info": {
   "name": "python"
  },
  "orig_nbformat": 4
 },
 "nbformat": 4,
 "nbformat_minor": 2
}
